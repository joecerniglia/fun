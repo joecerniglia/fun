{
 "cells": [
  {
   "cell_type": "code",
   "execution_count": 39,
   "id": "78e64e63",
   "metadata": {},
   "outputs": [
    {
     "name": "stdout",
     "output_type": "stream",
     "text": [
      "I am so very grateful for the students, instructors and professor, Chris Myers, who made this certificate  \n",
      "so worthwhile.\n"
     ]
    }
   ],
   "source": [
    "class gratitude:\n",
    "    def __init__(self, students, instructors, professor, assessment):\n",
    "        self.students=students\n",
    "        self.instructors=instructors\n",
    "        self.professor=professor\n",
    "        self.assessment=assessment\n",
    "        self.grade=self._evaluate()\n",
    "\n",
    "    def _evaluate(self):\n",
    "        if (self.assessment==10 and self.students=='A+' and\n",
    "        self.instructors=='outstanding' and\n",
    "        self.professor=='legendary'):\n",
    "            post1='I am so very grateful for '  +\\\n",
    "            'the students, instructors and professor, ' +\\\n",
    "            'Chris Myers, who made this certificate '\n",
    "            post2= 'so worthwhile.'\n",
    "            return post1, post2\n",
    "        else:\n",
    "          pass\n",
    "\n",
    "thoughts=gratitude('A+','outstanding','legendary',10)\n",
    "\n",
    "print(thoughts.grade[0],'\\n'+thoughts.grade[1])\n",
    "\n"
   ]
  },
  {
   "cell_type": "code",
   "execution_count": null,
   "id": "f4ebfe1d",
   "metadata": {},
   "outputs": [],
   "source": []
  }
 ],
 "metadata": {
  "kernelspec": {
   "display_name": "Python 3",
   "language": "python",
   "name": "python3"
  },
  "language_info": {
   "codemirror_mode": {
    "name": "ipython",
    "version": 3
   },
   "file_extension": ".py",
   "mimetype": "text/x-python",
   "name": "python",
   "nbconvert_exporter": "python",
   "pygments_lexer": "ipython3",
   "version": "3.8.8"
  }
 },
 "nbformat": 4,
 "nbformat_minor": 5
}
