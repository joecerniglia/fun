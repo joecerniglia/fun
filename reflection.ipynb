{
 "cells": [
  {
   "cell_type": "code",
   "execution_count": 93,
   "id": "5c7a3fe4",
   "metadata": {},
   "outputs": [
    {
     "data": {
      "text/markdown": [
       "# <font color='goldenrod'>I am so very grateful for the students, instructors and professor, Chris Myers, who made this certificate so enlightening, useful and worthwhile!</font>\n",
       " \n"
      ],
      "text/plain": [
       "<IPython.core.display.Markdown object>"
      ]
     },
     "metadata": {},
     "output_type": "display_data"
    }
   ],
   "source": [
    "from colorama import Fore\n",
    "from IPython.display import Markdown as md, display\n",
    "class gratitude:\n",
    "    def __init__(self, students, instructors, professor, assessment):\n",
    "        self.students=students\n",
    "        self.instructors=instructors\n",
    "        self.professor=professor\n",
    "        self.assessment=assessment\n",
    "        self.grade=self._evaluate()\n",
    "\n",
    "    def _evaluate(self):\n",
    "        if (self.assessment==10 and self.students=='A+' and\n",
    "        self.instructors=='outstanding' and\n",
    "        self.professor=='legendary'):\n",
    "            post='I am so very grateful for '  +\\\n",
    "            'the students, instructors and professor, ' +\\\n",
    "            'Chris Myers, who made this certificate ' +\\\n",
    "            'so enlightening, useful and worthwhile!'\n",
    "            return post\n",
    "        else:\n",
    "          pass\n",
    "    \n",
    "thoughts=gratitude('A+','outstanding','legendary',10)\n",
    "\n",
    "show='# ' + \"<font color='goldenrod'>\" + thoughts.grade + \"</font>\"\n",
    "\n",
    "display(md(show))\n"
   ]
  },
  {
   "cell_type": "code",
   "execution_count": null,
   "id": "57a5553e",
   "metadata": {},
   "outputs": [],
   "source": []
  }
 ],
 "metadata": {
  "kernelspec": {
   "display_name": "Python 3",
   "language": "python",
   "name": "python3"
  },
  "language_info": {
   "codemirror_mode": {
    "name": "ipython",
    "version": 3
   },
   "file_extension": ".py",
   "mimetype": "text/x-python",
   "name": "python",
   "nbconvert_exporter": "python",
   "pygments_lexer": "ipython3",
   "version": "3.8.8"
  }
 },
 "nbformat": 4,
 "nbformat_minor": 5
}
